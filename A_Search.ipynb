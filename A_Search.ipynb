{
  "nbformat": 4,
  "nbformat_minor": 0,
  "metadata": {
    "colab": {
      "provenance": [],
      "authorship_tag": "ABX9TyOkM3JbTYMSPxMapAZbFwfO",
      "include_colab_link": true
    },
    "kernelspec": {
      "name": "python3",
      "display_name": "Python 3"
    },
    "language_info": {
      "name": "python"
    }
  },
  "cells": [
    {
      "cell_type": "markdown",
      "metadata": {
        "id": "view-in-github",
        "colab_type": "text"
      },
      "source": [
        "<a href=\"https://colab.research.google.com/github/Ashubapun/A-_Search/blob/main/A_Search.ipynb\" target=\"_parent\"><img src=\"https://colab.research.google.com/assets/colab-badge.svg\" alt=\"Open In Colab\"/></a>"
      ]
    },
    {
      "cell_type": "code",
      "execution_count": null,
      "metadata": {
        "id": "XnsnwhbjrhF-"
      },
      "outputs": [],
      "source": [
        "import pandas as pd"
      ]
    },
    {
      "cell_type": "code",
      "source": [
        "# for deep copy method\n",
        "import copy"
      ],
      "metadata": {
        "id": "fm0f29Fwtgz9"
      },
      "execution_count": null,
      "outputs": []
    },
    {
      "cell_type": "code",
      "source": [
        "# importing heap methods\n",
        "from heapq import heappush, heappop"
      ],
      "metadata": {
        "id": "bF9T6_EnuCm6"
      },
      "execution_count": null,
      "outputs": []
    },
    {
      "cell_type": "code",
      "source": [
        "n = 3\n",
        "rows = [1,0,-1,0]\n",
        "cols = [0,-1,0,1]"
      ],
      "metadata": {
        "id": "tytMTOGxuV3q"
      },
      "execution_count": null,
      "outputs": []
    },
    {
      "cell_type": "code",
      "source": [
        "import copy\n",
        "from heapq import heappush, heappop\n",
        "n=3\n",
        "rows=[1,0,-1,0]\n",
        "cols=[0,-1,0,1]\n",
        "class prioriQue:\n",
        "  def __init__(self):\n",
        "    self.heap=[]\n",
        "  def push(self,key):\n",
        "    heappush(self.heap,key)\n",
        "  def pop(self):\n",
        "    return heappop(self.heap)\n",
        "  def empty(self):\n",
        "    if not self.heap:\n",
        "      return True\n",
        "    else:\n",
        "      return False\n",
        "\n",
        "class nodes:\n",
        "  def __init__(self,parent,mats,empty_tile_pos,costs,levels):\n",
        "    self.parent=parent\n",
        "    self.mats=mats\n",
        "    self.empty_tile_pos=empty_tile_pos\n",
        "    self.costs=costs\n",
        "    self.levels=levels\n",
        "  def __lt__(self,nxt):\n",
        "    return self.costs<nxt.costs\n",
        "def calccosts(mats,final)-> int:\n",
        "  count=0\n",
        "  for i in range(n):\n",
        "    for j in range(n):\n",
        "      if ((mats[i][j]) and (mats[i][j]) != (final[i][j])):\n",
        "        count+=1\n",
        "\n",
        "  return count\n",
        "\n",
        "def newnodes(mats,empty_tile_pos,new_empty_tile_pos,levels,parent,final)-> nodes:\n",
        "  new_mats=copy.deepcopy(mats)\n",
        "  x1=empty_tile_pos[0]\n",
        "  y1=empty_tile_pos[1]\n",
        "  x2=new_empty_tile_pos[0]\n",
        "  y2=new_empty_tile_pos[1]\n",
        "  new_mats[x1][y1],new_mats[x2][y2]=new_mats[x2][y2],new_mats[x1][y1]\n",
        "\n",
        "  costs=calccosts(new_mats,final)\n",
        "\n",
        "  new_nodes=nodes(parent,new_mats,new_empty_tile_pos,costs,levels)\n",
        "\n",
        "  return new_nodes\n",
        "\n",
        "\n",
        "def printmatrix(mats):\n",
        "  for i in range(n):\n",
        "    for j in range(n):\n",
        "      print(\"%d \"% (mats[i][j]),end=\" \")\n",
        "\n",
        "\n",
        "    print()\n",
        "\n",
        "def issafe(x,y):\n",
        "  return x>=0 and x<n and y>=0 and y<n\n",
        "def printpath(root):\n",
        "  if root==None:\n",
        "    return\n",
        "\n",
        "  printpath(root.parent)\n",
        "  printmatrix(root.mats)\n",
        "  print()\n",
        "\n",
        "def solve(initial , empty_tile_pos,final):\n",
        "  pq=prioriQue()\n",
        "  costs=calccosts(initial,final)\n",
        "  root=nodes(None,initial,empty_tile_pos, costs,0)\n",
        "  pq.push(root)\n",
        "  while not pq.empty():\n",
        "    minimum=pq.pop()\n",
        "    if minimum.costs==0:\n",
        "      printpath(minimum)\n",
        "      return\n",
        "    for i in range(n):\n",
        "      new_tile_pos=[\n",
        "          minimum.empty_tile_pos[0]+rows[i],minimum.empty_tile_pos[1]+cols[i]\n",
        "      ]\n",
        "      if issafe(new_tile_pos[0],new_tile_pos[1]):\n",
        "        child=newnodes(minimum.mats,\n",
        "                       minimum.empty_tile_pos,\n",
        "                       new_tile_pos,\n",
        "                       minimum.levels+1,\n",
        "                       minimum,\n",
        "                       final)\n",
        "        pq.push(child)\n",
        "initial= [ [1,2,3],\n",
        "         [5,6,0],\n",
        "         [7,8,4] ]\n",
        "final=[[1,2,3],\n",
        "      [5,8,6,],\n",
        "      [0,7,4]]\n",
        "\n",
        "\n",
        "empty_tile_pos=[1,2]\n",
        "solve(initial,empty_tile_pos,final)"
      ],
      "metadata": {
        "colab": {
          "base_uri": "https://localhost:8080/"
        },
        "id": "29GDoUhn9pyM",
        "outputId": "e7c04170-36ba-4544-841a-3e4240a375e2"
      },
      "execution_count": null,
      "outputs": [
        {
          "output_type": "stream",
          "name": "stdout",
          "text": [
            "1  2  3  \n",
            "5  6  0  \n",
            "7  8  4  \n",
            "\n",
            "1  2  3  \n",
            "5  0  6  \n",
            "7  8  4  \n",
            "\n",
            "1  2  3  \n",
            "5  8  6  \n",
            "7  0  4  \n",
            "\n",
            "1  2  3  \n",
            "5  8  6  \n",
            "0  7  4  \n",
            "\n"
          ]
        }
      ]
    },
    {
      "cell_type": "code",
      "source": [],
      "metadata": {
        "id": "xotWhKfo_UnK"
      },
      "execution_count": null,
      "outputs": []
    }
  ]
}